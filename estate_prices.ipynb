{
 "cells": [
  {
   "cell_type": "code",
   "execution_count": 67,
   "id": "03eff8b0",
   "metadata": {},
   "outputs": [],
   "source": [
    "#Importing libraries\n",
    "import pandas as pd\n",
    "import numpy as np \n",
    "\n",
    "import seaborn as sns \n",
    "import matplotlib.pylab as plt\n",
    "%matplotlib inline\n",
    "\n",
    "from sklearn.preprocessing import StandardScaler\n",
    "from sklearn.preprocessing import MinMaxScaler\n",
    "\n",
    "from scipy.stats import norm\n",
    "from scipy import stats"
   ]
  },
  {
   "cell_type": "code",
   "execution_count": 68,
   "id": "809b99be",
   "metadata": {},
   "outputs": [
    {
     "data": {
      "text/html": [
       "<div>\n",
       "<style scoped>\n",
       "    .dataframe tbody tr th:only-of-type {\n",
       "        vertical-align: middle;\n",
       "    }\n",
       "\n",
       "    .dataframe tbody tr th {\n",
       "        vertical-align: top;\n",
       "    }\n",
       "\n",
       "    .dataframe thead th {\n",
       "        text-align: right;\n",
       "    }\n",
       "</style>\n",
       "<table border=\"1\" class=\"dataframe\">\n",
       "  <thead>\n",
       "    <tr style=\"text-align: right;\">\n",
       "      <th></th>\n",
       "      <th>Order</th>\n",
       "      <th>PID</th>\n",
       "      <th>MS SubClass</th>\n",
       "      <th>MS Zoning</th>\n",
       "      <th>Lot Frontage</th>\n",
       "    </tr>\n",
       "  </thead>\n",
       "  <tbody>\n",
       "    <tr>\n",
       "      <th>0</th>\n",
       "      <td>1</td>\n",
       "      <td>526301100</td>\n",
       "      <td>20</td>\n",
       "      <td>RL</td>\n",
       "      <td>141.0</td>\n",
       "    </tr>\n",
       "    <tr>\n",
       "      <th>1</th>\n",
       "      <td>1</td>\n",
       "      <td>526301100</td>\n",
       "      <td>20</td>\n",
       "      <td>RL</td>\n",
       "      <td>141.0</td>\n",
       "    </tr>\n",
       "    <tr>\n",
       "      <th>2</th>\n",
       "      <td>2</td>\n",
       "      <td>526350040</td>\n",
       "      <td>20</td>\n",
       "      <td>RH</td>\n",
       "      <td>80.0</td>\n",
       "    </tr>\n",
       "    <tr>\n",
       "      <th>3</th>\n",
       "      <td>3</td>\n",
       "      <td>526351010</td>\n",
       "      <td>20</td>\n",
       "      <td>RL</td>\n",
       "      <td>81.0</td>\n",
       "    </tr>\n",
       "    <tr>\n",
       "      <th>4</th>\n",
       "      <td>4</td>\n",
       "      <td>526353030</td>\n",
       "      <td>20</td>\n",
       "      <td>RL</td>\n",
       "      <td>93.0</td>\n",
       "    </tr>\n",
       "  </tbody>\n",
       "</table>\n",
       "</div>"
      ],
      "text/plain": [
       "   Order        PID  MS SubClass MS Zoning  Lot Frontage\n",
       "0      1  526301100           20        RL         141.0\n",
       "1      1  526301100           20        RL         141.0\n",
       "2      2  526350040           20        RH          80.0\n",
       "3      3  526351010           20        RL          81.0\n",
       "4      4  526353030           20        RL          93.0"
      ]
     },
     "metadata": {},
     "output_type": "display_data"
    }
   ],
   "source": [
    "\n",
    "data = pd.read_csv('Estate_housing.tsv', sep='\\t')\n",
    "display(data.iloc[:5, :5])"
   ]
  },
  {
   "cell_type": "code",
   "execution_count": null,
   "id": "22c7c44f",
   "metadata": {},
   "outputs": [],
   "source": [
    "data.info() "
   ]
  },
  {
   "cell_type": "code",
   "execution_count": null,
   "id": "359ddd3b",
   "metadata": {},
   "outputs": [],
   "source": [
    "data[\"SalePrice\"].describe() "
   ]
  },
  {
   "cell_type": "code",
   "execution_count": null,
   "id": "2a75ff20",
   "metadata": {},
   "outputs": [],
   "source": [
    "numerical_in_data = data.select_dtypes(include = ['float64', 'int64'])\n",
    "numerical_in_data_corr = numerical_in_data.corr()['SalePrice']  \n",
    "top_features = numerical_in_data_corr[abs(numerical_in_data_corr) > 0.5].sort_values(ascending=False) #displays pearsons correlation coefficient greater than 0.5\n",
    "print(f\"There is {len(top_features)} strongly correlated values with SalePrice:\\n{top_features}\")\n",
    "#print(numerical_in_data)"
   ]
  },
  {
   "cell_type": "code",
   "execution_count": null,
   "id": "a2ea6fac",
   "metadata": {},
   "outputs": [],
   "source": [
    "#Visual Inspection of the data\n",
    "for i in range(0, len(numerical_in_data.columns), 5):\n",
    "    sns.pairplot(data=numerical_in_data,\n",
    "                x_vars=numerical_in_data.columns[i:i+5],\n",
    "                y_vars=['SalePrice'])"
   ]
  },
  {
   "cell_type": "code",
   "execution_count": null,
   "id": "8bff1a40",
   "metadata": {},
   "outputs": [],
   "source": [
    "\n",
    "#Histplot for SalePrice\n",
    "initial_price_plot = sns.histplot(data['SalePrice'], kde=True, bins=50) "
   ]
  },
  {
   "cell_type": "code",
   "execution_count": null,
   "id": "f2c890cf",
   "metadata": {},
   "outputs": [],
   "source": [
    "#Printing the skewness of SalePrice\n",
    "print(f\"Skewness of Price: {data['SalePrice'].skew()}\")"
   ]
  },
  {
   "cell_type": "code",
   "execution_count": null,
   "id": "63a68c6e",
   "metadata": {},
   "outputs": [],
   "source": [
    "#Log Transformation of SalePrice\n",
    "log_transformed= np.log(data['SalePrice'])\n"
   ]
  },
  {
   "cell_type": "code",
   "execution_count": null,
   "id": "0cd302a2",
   "metadata": {},
   "outputs": [],
   "source": [
    "Saleprice_plot = sns.histplot(log_transformed, kde=True)"
   ]
  },
  {
   "cell_type": "code",
   "execution_count": null,
   "id": "199c9ecb",
   "metadata": {},
   "outputs": [],
   "source": [
    "#Printing skewness\n",
    "print(\"Skewness: %f\" % (log_transformed).skew())"
   ]
  },
  {
   "cell_type": "code",
   "execution_count": null,
   "id": "7c02ef4a",
   "metadata": {},
   "outputs": [],
   "source": [
    "#check if there are any duplicate indexes in the dataset\n",
    "data.index.is_unique  "
   ]
  },
  {
   "cell_type": "code",
   "execution_count": null,
   "id": "bfc3a6fa",
   "metadata": {},
   "outputs": [],
   "source": [
    "#Check for duplicate entries in the 'SalePrice' column\n",
    "duplicate = data[data.duplicated(['SalePrice'])]\n",
    "duplicate"
   ]
  },
  {
   "cell_type": "code",
   "execution_count": null,
   "id": "6e15085e",
   "metadata": {},
   "outputs": [],
   "source": [
    "#Removing Duplicates\n",
    "removed = data.drop_duplicates()\n",
    "removed"
   ]
  },
  {
   "cell_type": "code",
   "execution_count": null,
   "id": "363f4629",
   "metadata": {},
   "outputs": [],
   "source": [
    "#Check for missing values\n",
    "total = data.isnull().sum().sort_values(ascending=False)\n",
    "total_select = total.head(20)\n",
    "total_select.plot(kind=\"bar\", figsize = (8,6), fontsize = 10)\n",
    "\n",
    "plt.xlabel(\"Columns\", fontsize = 20)\n",
    "plt.ylabel(\"Count\", fontsize = 20)\n",
    "plt.title(\"Total Missing Values\", fontsize = 20)"
   ]
  },
  {
   "cell_type": "code",
   "execution_count": null,
   "id": "ac6fcf2c",
   "metadata": {},
   "outputs": [],
   "source": [
    "#drop the rows with missing values\n",
    "data_dropped = data.dropna()\n",
    "print(f\"Number of rows after dropping missing values: {len(data_dropped)}\")\n"
   ]
  },
  {
   "cell_type": "code",
   "execution_count": null,
   "id": "073f3f12",
   "metadata": {},
   "outputs": [],
   "source": [
    "#fill missing values with a constant\n",
    "data_filled_constant = data.fillna(0)\n",
    "print(f\"Number of rows after filling missing values with constant: {len(data_filled_constant)}\")\n"
   ]
  },
  {
   "cell_type": "code",
   "execution_count": null,
   "id": "c3441312",
   "metadata": {},
   "outputs": [],
   "source": [
    "#Feature Scaling\n",
    "normalized_data = MinMaxScaler().fit_transform(numerical_in_data)\n",
    "normalized_data"
   ]
  },
  {
   "cell_type": "code",
   "execution_count": null,
   "id": "a0677be5",
   "metadata": {},
   "outputs": [],
   "source": [
    "#standardize the data\n",
    "standardized_data = StandardScaler().fit_transform(numerical_in_data)\n",
    "standardized_data\n"
   ]
  },
  {
   "cell_type": "code",
   "execution_count": null,
   "id": "c21359b9",
   "metadata": {},
   "outputs": [],
   "source": [
    "#Handling outliers\n",
    "#use box plot for univariate analysis of price\n",
    "sns.boxplot(x=data['SalePrice'])\n",
    "\n"
   ]
  },
  {
   "cell_type": "code",
   "execution_count": null,
   "id": "ef57537f",
   "metadata": {},
   "outputs": [],
   "source": [
    "#plot box plot for features above 0.5 correlation with Price\n",
    "for col in top_features.index:\n",
    "    plt.figure(figsize=(10, 5))\n",
    "    sns.boxplot(x=data[col])\n",
    "    plt.title(f'Box Plot of {col}')\n",
    "    plt.show()"
   ]
  },
  {
   "cell_type": "code",
   "execution_count": null,
   "id": "f75b43ec",
   "metadata": {},
   "outputs": [],
   "source": [
    "#plot box plot for all numerical columns\n",
    "for col in numerical_in_data.columns:\n",
    "    plt.figure(figsize=(10, 5))\n",
    "    sns.boxplot(x=data[col])\n",
    "    plt.title(f'Box Plot of {col}')\n",
    "    plt.show()"
   ]
  },
  {
   "cell_type": "code",
   "execution_count": null,
   "id": "8391dfbe",
   "metadata": {},
   "outputs": [],
   "source": [
    "#retrieve columns with Pearson correlation greater than 0.5 and print them\n",
    "correlated_columns = top_features.index.tolist()\n",
    "print(\"Columns with Pearson correlation greater than 0.5:\", correlated_columns)"
   ]
  },
  {
   "cell_type": "code",
   "execution_count": null,
   "id": "d674cb52",
   "metadata": {},
   "outputs": [],
   "source": [
    "#first sort the data by 'Engine (cc)' and select the last 3\n",
    "data.sort_values(by = 'Engine (cc)', ascending = False)[:3]"
   ]
  }
 ],
 "metadata": {
  "kernelspec": {
   "display_name": ".venv",
   "language": "python",
   "name": "python3"
  },
  "language_info": {
   "codemirror_mode": {
    "name": "ipython",
    "version": 3
   },
   "file_extension": ".py",
   "mimetype": "text/x-python",
   "name": "python",
   "nbconvert_exporter": "python",
   "pygments_lexer": "ipython3",
   "version": "3.13.3"
  }
 },
 "nbformat": 4,
 "nbformat_minor": 5
}
