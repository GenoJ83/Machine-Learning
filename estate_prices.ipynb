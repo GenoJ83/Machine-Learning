{
 "cells": [
  {
   "cell_type": "code",
   "execution_count": 67,
   "id": "03eff8b0",
   "metadata": {},
   "outputs": [],
   "source": [
    "#Importing libraries\n",
    "import pandas as pd\n",
    "import numpy as np \n",
    "\n",
    "import seaborn as sns \n",
    "import matplotlib.pylab as plt\n",
    "%matplotlib inline\n",
    "\n",
    "from sklearn.preprocessing import StandardScaler\n",
    "from sklearn.preprocessing import MinMaxScaler\n",
    "\n",
    "from scipy.stats import norm\n",
    "from scipy import stats"
   ]
  },
  {
   "cell_type": "code",
   "execution_count": 68,
   "id": "809b99be",
   "metadata": {},
   "outputs": [
    {
     "data": {
      "text/html": [
       "<div>\n",
       "<style scoped>\n",
       "    .dataframe tbody tr th:only-of-type {\n",
       "        vertical-align: middle;\n",
       "    }\n",
       "\n",
       "    .dataframe tbody tr th {\n",
       "        vertical-align: top;\n",
       "    }\n",
       "\n",
       "    .dataframe thead th {\n",
       "        text-align: right;\n",
       "    }\n",
       "</style>\n",
       "<table border=\"1\" class=\"dataframe\">\n",
       "  <thead>\n",
       "    <tr style=\"text-align: right;\">\n",
       "      <th></th>\n",
       "      <th>Order</th>\n",
       "      <th>PID</th>\n",
       "      <th>MS SubClass</th>\n",
       "      <th>MS Zoning</th>\n",
       "      <th>Lot Frontage</th>\n",
       "    </tr>\n",
       "  </thead>\n",
       "  <tbody>\n",
       "    <tr>\n",
       "      <th>0</th>\n",
       "      <td>1</td>\n",
       "      <td>526301100</td>\n",
       "      <td>20</td>\n",
       "      <td>RL</td>\n",
       "      <td>141.0</td>\n",
       "    </tr>\n",
       "    <tr>\n",
       "      <th>1</th>\n",
       "      <td>1</td>\n",
       "      <td>526301100</td>\n",
       "      <td>20</td>\n",
       "      <td>RL</td>\n",
       "      <td>141.0</td>\n",
       "    </tr>\n",
       "    <tr>\n",
       "      <th>2</th>\n",
       "      <td>2</td>\n",
       "      <td>526350040</td>\n",
       "      <td>20</td>\n",
       "      <td>RH</td>\n",
       "      <td>80.0</td>\n",
       "    </tr>\n",
       "    <tr>\n",
       "      <th>3</th>\n",
       "      <td>3</td>\n",
       "      <td>526351010</td>\n",
       "      <td>20</td>\n",
       "      <td>RL</td>\n",
       "      <td>81.0</td>\n",
       "    </tr>\n",
       "    <tr>\n",
       "      <th>4</th>\n",
       "      <td>4</td>\n",
       "      <td>526353030</td>\n",
       "      <td>20</td>\n",
       "      <td>RL</td>\n",
       "      <td>93.0</td>\n",
       "    </tr>\n",
       "  </tbody>\n",
       "</table>\n",
       "</div>"
      ],
      "text/plain": [
       "   Order        PID  MS SubClass MS Zoning  Lot Frontage\n",
       "0      1  526301100           20        RL         141.0\n",
       "1      1  526301100           20        RL         141.0\n",
       "2      2  526350040           20        RH          80.0\n",
       "3      3  526351010           20        RL          81.0\n",
       "4      4  526353030           20        RL          93.0"
      ]
     },
     "metadata": {},
     "output_type": "display_data"
    }
   ],
   "source": [
    "\n",
    "data = pd.read_csv('Estate_housing.tsv', sep='\\t')\n",
    "display(data.iloc[:5, :5])"
   ]
  },
  {
   "cell_type": "code",
   "execution_count": 69,
   "id": "22c7c44f",
   "metadata": {},
   "outputs": [
    {
     "name": "stdout",
     "output_type": "stream",
     "text": [
      "<class 'pandas.core.frame.DataFrame'>\n",
      "RangeIndex: 2931 entries, 0 to 2930\n",
      "Data columns (total 82 columns):\n",
      " #   Column           Non-Null Count  Dtype  \n",
      "---  ------           --------------  -----  \n",
      " 0   Order            2931 non-null   int64  \n",
      " 1   PID              2931 non-null   int64  \n",
      " 2   MS SubClass      2931 non-null   int64  \n",
      " 3   MS Zoning        2931 non-null   object \n",
      " 4   Lot Frontage     2441 non-null   float64\n",
      " 5   Lot Area         2931 non-null   int64  \n",
      " 6   Street           2931 non-null   object \n",
      " 7   Alley            198 non-null    object \n",
      " 8   Lot Shape        2931 non-null   object \n",
      " 9   Land Contour     2931 non-null   object \n",
      " 10  Utilities        2931 non-null   object \n",
      " 11  Lot Config       2931 non-null   object \n",
      " 12  Land Slope       2931 non-null   object \n",
      " 13  Neighborhood     2931 non-null   object \n",
      " 14  Condition 1      2931 non-null   object \n",
      " 15  Condition 2      2931 non-null   object \n",
      " 16  Bldg Type        2931 non-null   object \n",
      " 17  House Style      2931 non-null   object \n",
      " 18  Overall Qual     2931 non-null   int64  \n",
      " 19  Overall Cond     2931 non-null   int64  \n",
      " 20  Year Built       2931 non-null   int64  \n",
      " 21  Year Remod/Add   2931 non-null   int64  \n",
      " 22  Roof Style       2931 non-null   object \n",
      " 23  Roof Matl        2931 non-null   object \n",
      " 24  Exterior 1st     2931 non-null   object \n",
      " 25  Exterior 2nd     2931 non-null   object \n",
      " 26  Mas Vnr Type     1156 non-null   object \n",
      " 27  Mas Vnr Area     2908 non-null   float64\n",
      " 28  Exter Qual       2931 non-null   object \n",
      " 29  Exter Cond       2931 non-null   object \n",
      " 30  Foundation       2931 non-null   object \n",
      " 31  Bsmt Qual        2851 non-null   object \n",
      " 32  Bsmt Cond        2851 non-null   object \n",
      " 33  Bsmt Exposure    2848 non-null   object \n",
      " 34  BsmtFin Type 1   2851 non-null   object \n",
      " 35  BsmtFin SF 1     2930 non-null   float64\n",
      " 36  BsmtFin Type 2   2850 non-null   object \n",
      " 37  BsmtFin SF 2     2930 non-null   float64\n",
      " 38  Bsmt Unf SF      2930 non-null   float64\n",
      " 39  Total Bsmt SF    2930 non-null   float64\n",
      " 40  Heating          2931 non-null   object \n",
      " 41  Heating QC       2931 non-null   object \n",
      " 42  Central Air      2931 non-null   object \n",
      " 43  Electrical       2930 non-null   object \n",
      " 44  1st Flr SF       2931 non-null   int64  \n",
      " 45  2nd Flr SF       2931 non-null   int64  \n",
      " 46  Low Qual Fin SF  2931 non-null   int64  \n",
      " 47  Gr Liv Area      2931 non-null   int64  \n",
      " 48  Bsmt Full Bath   2929 non-null   float64\n",
      " 49  Bsmt Half Bath   2929 non-null   float64\n",
      " 50  Full Bath        2931 non-null   int64  \n",
      " 51  Half Bath        2931 non-null   int64  \n",
      " 52  Bedroom AbvGr    2931 non-null   int64  \n",
      " 53  Kitchen AbvGr    2931 non-null   int64  \n",
      " 54  Kitchen Qual     2931 non-null   object \n",
      " 55  TotRms AbvGrd    2931 non-null   int64  \n",
      " 56  Functional       2931 non-null   object \n",
      " 57  Fireplaces       2931 non-null   int64  \n",
      " 58  Fireplace Qu     1509 non-null   object \n",
      " 59  Garage Type      2774 non-null   object \n",
      " 60  Garage Yr Blt    2772 non-null   float64\n",
      " 61  Garage Finish    2772 non-null   object \n",
      " 62  Garage Cars      2930 non-null   float64\n",
      " 63  Garage Area      2930 non-null   float64\n",
      " 64  Garage Qual      2772 non-null   object \n",
      " 65  Garage Cond      2772 non-null   object \n",
      " 66  Paved Drive      2931 non-null   object \n",
      " 67  Wood Deck SF     2931 non-null   int64  \n",
      " 68  Open Porch SF    2931 non-null   int64  \n",
      " 69  Enclosed Porch   2931 non-null   int64  \n",
      " 70  3Ssn Porch       2931 non-null   int64  \n",
      " 71  Screen Porch     2931 non-null   int64  \n",
      " 72  Pool Area        2931 non-null   int64  \n",
      " 73  Pool QC          13 non-null     object \n",
      " 74  Fence            572 non-null    object \n",
      " 75  Misc Feature     106 non-null    object \n",
      " 76  Misc Val         2931 non-null   int64  \n",
      " 77  Mo Sold          2931 non-null   int64  \n",
      " 78  Yr Sold          2931 non-null   int64  \n",
      " 79  Sale Type        2931 non-null   object \n",
      " 80  Sale Condition   2931 non-null   object \n",
      " 81  SalePrice        2931 non-null   int64  \n",
      "dtypes: float64(11), int64(28), object(43)\n",
      "memory usage: 1.8+ MB\n"
     ]
    }
   ],
   "source": [
    "data.info() "
   ]
  },
  {
   "cell_type": "code",
   "execution_count": 70,
   "id": "359ddd3b",
   "metadata": {},
   "outputs": [
    {
     "data": {
      "text/plain": [
       "count      2931.000000\n",
       "mean     180807.729785\n",
       "std       79875.557267\n",
       "min       12789.000000\n",
       "25%      129500.000000\n",
       "50%      160000.000000\n",
       "75%      213500.000000\n",
       "max      755000.000000\n",
       "Name: SalePrice, dtype: float64"
      ]
     },
     "execution_count": 70,
     "metadata": {},
     "output_type": "execute_result"
    }
   ],
   "source": [
    "data[\"SalePrice\"].describe() "
   ]
  },
  {
   "cell_type": "code",
   "execution_count": null,
   "id": "2a75ff20",
   "metadata": {},
   "outputs": [],
   "source": [
    "numerical_in_data = data.select_dtypes(include = ['float64', 'int64'])\n",
    "numerical_in_data_corr = numerical_in_data.corr()['SalePrice']  \n",
    "top_features = numerical_in_data_corr[abs(numerical_in_data_corr) > 0.5].sort_values(ascending=False) #displays pearsons correlation coefficient greater than 0.5\n",
    "print(f\"There is {len(top_features)} strongly correlated values with SalePrice:\\n{top_features}\")\n",
    "#print(numerical_in_data)"
   ]
  },
  {
   "cell_type": "code",
   "execution_count": null,
   "id": "a2ea6fac",
   "metadata": {},
   "outputs": [],
   "source": [
    "#Visual Inspection of the data\n",
    "for i in range(0, len(numerical_in_data.columns), 5):\n",
    "    sns.pairplot(data=numerical_in_data,\n",
    "                x_vars=numerical_in_data.columns[i:i+5],\n",
    "                y_vars=['SalePrice'])"
   ]
  },
  {
   "cell_type": "code",
   "execution_count": null,
   "id": "8bff1a40",
   "metadata": {},
   "outputs": [],
   "source": [
    "\n",
    "#Histplot for SalePrice\n",
    "initial_price_plot = sns.histplot(data['SalePrice'], kde=True, bins=50) "
   ]
  },
  {
   "cell_type": "code",
   "execution_count": null,
   "id": "f2c890cf",
   "metadata": {},
   "outputs": [],
   "source": [
    "#Printing the skewness of SalePrice\n",
    "print(f\"Skewness of Price: {data['SalePrice'].skew()}\")"
   ]
  },
  {
   "cell_type": "code",
   "execution_count": null,
   "id": "63a68c6e",
   "metadata": {},
   "outputs": [],
   "source": [
    "#Log Transformation of SalePrice\n",
    "log_transformed= np.log(data['SalePrice'])\n"
   ]
  },
  {
   "cell_type": "code",
   "execution_count": null,
   "id": "0cd302a2",
   "metadata": {},
   "outputs": [],
   "source": [
    "Saleprice_plot = sns.histplot(log_transformed, kde=True)"
   ]
  },
  {
   "cell_type": "code",
   "execution_count": null,
   "id": "199c9ecb",
   "metadata": {},
   "outputs": [],
   "source": [
    "#Printing skewness\n",
    "print(\"Skewness: %f\" % (log_transformed).skew())"
   ]
  },
  {
   "cell_type": "code",
   "execution_count": null,
   "id": "7c02ef4a",
   "metadata": {},
   "outputs": [],
   "source": [
    "#check if there are any duplicate indexes in the dataset\n",
    "data.index.is_unique  "
   ]
  },
  {
   "cell_type": "code",
   "execution_count": null,
   "id": "bfc3a6fa",
   "metadata": {},
   "outputs": [],
   "source": [
    "#Check for duplicate entries in the 'SalePrice' column\n",
    "duplicate = data[data.duplicated(['SalePrice'])]\n",
    "duplicate"
   ]
  },
  {
   "cell_type": "code",
   "execution_count": null,
   "id": "6e15085e",
   "metadata": {},
   "outputs": [],
   "source": [
    "#Removing Duplicates\n",
    "removed = data.drop_duplicates()\n",
    "removed"
   ]
  },
  {
   "cell_type": "code",
   "execution_count": null,
   "id": "363f4629",
   "metadata": {},
   "outputs": [],
   "source": [
    "#Check for missing values\n",
    "total = data.isnull().sum().sort_values(ascending=False)\n",
    "total_select = total.head(20)\n",
    "total_select.plot(kind=\"bar\", figsize = (8,6), fontsize = 10)\n",
    "\n",
    "plt.xlabel(\"Columns\", fontsize = 20)\n",
    "plt.ylabel(\"Count\", fontsize = 20)\n",
    "plt.title(\"Total Missing Values\", fontsize = 20)"
   ]
  },
  {
   "cell_type": "code",
   "execution_count": null,
   "id": "ac6fcf2c",
   "metadata": {},
   "outputs": [],
   "source": [
    "#drop the rows with missing values\n",
    "data_dropped = data.dropna()\n",
    "print(f\"Number of rows after dropping missing values: {len(data_dropped)}\")\n"
   ]
  },
  {
   "cell_type": "code",
   "execution_count": null,
   "id": "073f3f12",
   "metadata": {},
   "outputs": [],
   "source": [
    "#fill missing values with a constant\n",
    "data_filled_constant = data.fillna(0)\n",
    "print(f\"Number of rows after filling missing values with constant: {len(data_filled_constant)}\")\n"
   ]
  },
  {
   "cell_type": "code",
   "execution_count": null,
   "id": "c3441312",
   "metadata": {},
   "outputs": [],
   "source": [
    "#Feature Scaling\n",
    "normalized_data = MinMaxScaler().fit_transform(numerical_in_data)\n",
    "normalized_data"
   ]
  },
  {
   "cell_type": "code",
   "execution_count": null,
   "id": "a0677be5",
   "metadata": {},
   "outputs": [],
   "source": [
    "#standardize the data\n",
    "standardized_data = StandardScaler().fit_transform(numerical_in_data)\n",
    "standardized_data\n"
   ]
  },
  {
   "cell_type": "code",
   "execution_count": null,
   "id": "c21359b9",
   "metadata": {},
   "outputs": [],
   "source": [
    "#Handling outliers\n",
    "#use box plot for univariate analysis of price\n",
    "sns.boxplot(x=data['SalePrice'])\n",
    "\n"
   ]
  },
  {
   "cell_type": "code",
   "execution_count": null,
   "id": "ef57537f",
   "metadata": {},
   "outputs": [],
   "source": [
    "#plot box plot for features above 0.5 correlation with Price\n",
    "for col in top_features.index:\n",
    "    plt.figure(figsize=(10, 5))\n",
    "    sns.boxplot(x=data[col])\n",
    "    plt.title(f'Box Plot of {col}')\n",
    "    plt.show()"
   ]
  },
  {
   "cell_type": "code",
   "execution_count": null,
   "id": "f75b43ec",
   "metadata": {},
   "outputs": [],
   "source": [
    "#plot box plot for all numerical columns\n",
    "for col in numerical_in_data.columns:\n",
    "    plt.figure(figsize=(10, 5))\n",
    "    sns.boxplot(x=data[col])\n",
    "    plt.title(f'Box Plot of {col}')\n",
    "    plt.show()"
   ]
  },
  {
   "cell_type": "code",
   "execution_count": null,
   "id": "8391dfbe",
   "metadata": {},
   "outputs": [],
   "source": [
    "#retrieve columns with Pearson correlation greater than 0.5 and print them\n",
    "correlated_columns = top_features.index.tolist()\n",
    "print(\"Columns with Pearson correlation greater than 0.5:\", correlated_columns)"
   ]
  },
  {
   "cell_type": "code",
   "execution_count": null,
   "id": "d674cb52",
   "metadata": {},
   "outputs": [],
   "source": [
    "#first sort the data by 'Engine (cc)' and select the last 3\n",
    "data.sort_values(by = 'Engine (cc)', ascending = False)[:3]"
   ]
  }
 ],
 "metadata": {
  "kernelspec": {
   "display_name": ".venv",
   "language": "python",
   "name": "python3"
  },
  "language_info": {
   "codemirror_mode": {
    "name": "ipython",
    "version": 3
   },
   "file_extension": ".py",
   "mimetype": "text/x-python",
   "name": "python",
   "nbconvert_exporter": "python",
   "pygments_lexer": "ipython3",
   "version": "3.13.3"
  }
 },
 "nbformat": 4,
 "nbformat_minor": 5
}
