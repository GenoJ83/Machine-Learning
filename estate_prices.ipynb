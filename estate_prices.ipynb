{
 "cells": [
  {
   "cell_type": "code",
   "execution_count": 1,
   "id": "03eff8b0",
   "metadata": {},
   "outputs": [],
   "source": [
    "#Importing libraries\n",
    "import pandas as pd\n",
    "import numpy as np \n",
    "\n",
    "import seaborn as sns \n",
    "import matplotlib.pylab as plt\n",
    "%matplotlib inline\n",
    "\n",
    "from sklearn.preprocessing import StandardScaler\n",
    "from sklearn.preprocessing import MinMaxScaler\n",
    "\n",
    "from scipy.stats import norm\n",
    "from scipy import stats"
   ]
  },
  {
   "cell_type": "code",
   "execution_count": 2,
   "id": "809b99be",
   "metadata": {},
   "outputs": [
    {
     "name": "stdout",
     "output_type": "stream",
     "text": [
      "  Order\\tPID\\tMS SubClass\\tMS Zoning\\tLot Frontage\\tLot Area\\tStreet\\tAlley\\tLot Shape\\tLand Contour\\tUtilities\\tLot Config\\tLand Slope\\tNeighborhood\\tCondition 1\\tCondition 2\\tBldg Type\\tHouse Style\\tOverall Qual\\tOverall Cond\\tYear Built\\tYear Remod/Add\\tRoof Style\\tRoof Matl\\tExterior 1st\\tExterior 2nd\\tMas Vnr Type\\tMas Vnr Area\\tExter Qual\\tExter Cond\\tFoundation\\tBsmt Qual\\tBsmt Cond\\tBsmt Exposure\\tBsmtFin Type 1\\tBsmtFin SF 1\\tBsmtFin Type 2\\tBsmtFin SF 2\\tBsmt Unf SF\\tTotal Bsmt SF\\tHeating\\tHeating QC\\tCentral Air\\tElectrical\\t1st Flr SF\\t2nd Flr SF\\tLow Qual Fin SF\\tGr Liv Area\\tBsmt Full Bath\\tBsmt Half Bath\\tFull Bath\\tHalf Bath\\tBedroom AbvGr\\tKitchen AbvGr\\tKitchen Qual\\tTotRms AbvGrd\\tFunctional\\tFireplaces\\tFireplace Qu\\tGarage Type\\tGarage Yr Blt\\tGarage Finish\\tGarage Cars\\tGarage Area\\tGarage Qual\\tGarage Cond\\tPaved Drive\\tWood Deck SF\\tOpen Porch SF\\tEnclosed Porch\\t3Ssn Porch\\tScreen Porch\\tPool Area\\tPool QC\\tFence\\tMisc Feature\\tMisc Val\\tMo Sold\\tYr Sold\\tSale Type\\tSale Condition\\tSalePrice\n",
      "0  1\\t526301100\\t20\\tRL\\t141\\t31770\\tPave\\tNA\\tIR...                                                                                                                                                                                                                                                                                                                                                                                                                                                                                                                                                                                                                                                                                                                                                                                                                                                                                                                                                                                                                    \n",
      "1  1\\t526301100\\t20\\tRL\\t141\\t31770\\tPave\\tNA\\tIR...                                                                                                                                                                                                                                                                                                                                                                                                                                                                                                                                                                                                                                                                                                                                                                                                                                                                                                                                                                                                                    \n",
      "2  2\\t526350040\\t20\\tRH\\t80\\t11622\\tPave\\tNA\\tReg...                                                                                                                                                                                                                                                                                                                                                                                                                                                                                                                                                                                                                                                                                                                                                                                                                                                                                                                                                                                                                    \n",
      "3  3\\t526351010\\t20\\tRL\\t81\\t14267\\tPave\\tNA\\tIR1...                                                                                                                                                                                                                                                                                                                                                                                                                                                                                                                                                                                                                                                                                                                                                                                                                                                                                                                                                                                                                    \n",
      "4  4\\t526353030\\t20\\tRL\\t93\\t11160\\tPave\\tNA\\tReg...                                                                                                                                                                                                                                                                                                                                                                                                                                                                                                                                                                                                                                                                                                                                                                                                                                                                                                                                                                                                                    \n"
     ]
    }
   ],
   "source": [
    "file_path = 'Estate_housing.tsv'\n",
    "data = pd.read_csv(file_path)\n",
    "print(data.iloc[:5, :5]) "
   ]
  },
  {
   "cell_type": "code",
   "execution_count": 3,
   "id": "22c7c44f",
   "metadata": {},
   "outputs": [
    {
     "name": "stdout",
     "output_type": "stream",
     "text": [
      "<class 'pandas.core.frame.DataFrame'>\n",
      "RangeIndex: 2931 entries, 0 to 2930\n",
      "Data columns (total 1 columns):\n",
      " #   Column                                                                                                                                                                                                                                                                                                                                                                                                                                                                                                                                                                                                                                                                                                                                                                                                                                                                                                                                                                                 Non-Null Count  Dtype \n",
      "---  ------                                                                                                                                                                                                                                                                                                                                                                                                                                                                                                                                                                                                                                                                                                                                                                                                                                                                                                                                                                                 --------------  ----- \n",
      " 0   Order\tPID\tMS SubClass\tMS Zoning\tLot Frontage\tLot Area\tStreet\tAlley\tLot Shape\tLand Contour\tUtilities\tLot Config\tLand Slope\tNeighborhood\tCondition 1\tCondition 2\tBldg Type\tHouse Style\tOverall Qual\tOverall Cond\tYear Built\tYear Remod/Add\tRoof Style\tRoof Matl\tExterior 1st\tExterior 2nd\tMas Vnr Type\tMas Vnr Area\tExter Qual\tExter Cond\tFoundation\tBsmt Qual\tBsmt Cond\tBsmt Exposure\tBsmtFin Type 1\tBsmtFin SF 1\tBsmtFin Type 2\tBsmtFin SF 2\tBsmt Unf SF\tTotal Bsmt SF\tHeating\tHeating QC\tCentral Air\tElectrical\t1st Flr SF\t2nd Flr SF\tLow Qual Fin SF\tGr Liv Area\tBsmt Full Bath\tBsmt Half Bath\tFull Bath\tHalf Bath\tBedroom AbvGr\tKitchen AbvGr\tKitchen Qual\tTotRms AbvGrd\tFunctional\tFireplaces\tFireplace Qu\tGarage Type\tGarage Yr Blt\tGarage Finish\tGarage Cars\tGarage Area\tGarage Qual\tGarage Cond\tPaved Drive\tWood Deck SF\tOpen Porch SF\tEnclosed Porch\t3Ssn Porch\tScreen Porch\tPool Area\tPool QC\tFence\tMisc Feature\tMisc Val\tMo Sold\tYr Sold\tSale Type\tSale Condition\tSalePrice  2931 non-null   object\n",
      "dtypes: object(1)\n",
      "memory usage: 23.0+ KB\n"
     ]
    }
   ],
   "source": [
    "data.info() "
   ]
  }
 ],
 "metadata": {
  "kernelspec": {
   "display_name": ".venv",
   "language": "python",
   "name": "python3"
  },
  "language_info": {
   "codemirror_mode": {
    "name": "ipython",
    "version": 3
   },
   "file_extension": ".py",
   "mimetype": "text/x-python",
   "name": "python",
   "nbconvert_exporter": "python",
   "pygments_lexer": "ipython3",
   "version": "3.13.3"
  }
 },
 "nbformat": 4,
 "nbformat_minor": 5
}
